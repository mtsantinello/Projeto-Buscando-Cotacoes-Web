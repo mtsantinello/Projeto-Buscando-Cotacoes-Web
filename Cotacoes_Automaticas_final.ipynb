{
 "cells": [
  {
   "cell_type": "markdown",
   "metadata": {},
   "source": [
    "#### Importando os pacotes necessários"
   ]
  },
  {
   "cell_type": "code",
   "execution_count": 4,
   "metadata": {},
   "outputs": [],
   "source": [
    "from selenium import webdriver\n",
    "from selenium.webdriver.common.keys import Keys\n",
    "from selenium.webdriver.common.by import By\n",
    "import pandas as pd\n",
    "from datetime import datetime\n",
    "import time"
   ]
  },
  {
   "cell_type": "markdown",
   "metadata": {},
   "source": [
    "#### Importando a base de dados"
   ]
  },
  {
   "cell_type": "code",
   "execution_count": 22,
   "metadata": {},
   "outputs": [
    {
     "data": {
      "text/html": [
       "<div>\n",
       "<style scoped>\n",
       "    .dataframe tbody tr th:only-of-type {\n",
       "        vertical-align: middle;\n",
       "    }\n",
       "\n",
       "    .dataframe tbody tr th {\n",
       "        vertical-align: top;\n",
       "    }\n",
       "\n",
       "    .dataframe thead th {\n",
       "        text-align: right;\n",
       "    }\n",
       "</style>\n",
       "<table border=\"1\" class=\"dataframe\">\n",
       "  <thead>\n",
       "    <tr style=\"text-align: right;\">\n",
       "      <th></th>\n",
       "      <th>Data</th>\n",
       "      <th>Hora</th>\n",
       "      <th>Dólar</th>\n",
       "      <th>Euro</th>\n",
       "      <th>Libra</th>\n",
       "      <th>Yen</th>\n",
       "      <th>Bitcoin</th>\n",
       "      <th>Ethereum</th>\n",
       "    </tr>\n",
       "  </thead>\n",
       "  <tbody>\n",
       "    <tr>\n",
       "      <th>0</th>\n",
       "      <td>06/10/2022</td>\n",
       "      <td>20:03:13</td>\n",
       "      <td>5.22</td>\n",
       "      <td>5.11</td>\n",
       "      <td>5.83</td>\n",
       "      <td>0.036</td>\n",
       "      <td>103935.85</td>\n",
       "      <td>7054.93</td>\n",
       "    </tr>\n",
       "    <tr>\n",
       "      <th>1</th>\n",
       "      <td>06/10/2022</td>\n",
       "      <td>20:20:29</td>\n",
       "      <td>5.22</td>\n",
       "      <td>5.11</td>\n",
       "      <td>5.83</td>\n",
       "      <td>0.036</td>\n",
       "      <td>104237.82</td>\n",
       "      <td>7060.75</td>\n",
       "    </tr>\n",
       "    <tr>\n",
       "      <th>2</th>\n",
       "      <td>06/10/2022</td>\n",
       "      <td>20:21:52</td>\n",
       "      <td>5.22</td>\n",
       "      <td>5.11</td>\n",
       "      <td>5.83</td>\n",
       "      <td>0.036</td>\n",
       "      <td>104243.80</td>\n",
       "      <td>7061.15</td>\n",
       "    </tr>\n",
       "    <tr>\n",
       "      <th>3</th>\n",
       "      <td>06/10/2022</td>\n",
       "      <td>20:23:06</td>\n",
       "      <td>5.22</td>\n",
       "      <td>5.11</td>\n",
       "      <td>5.83</td>\n",
       "      <td>0.036</td>\n",
       "      <td>104243.80</td>\n",
       "      <td>7061.15</td>\n",
       "    </tr>\n",
       "    <tr>\n",
       "      <th>4</th>\n",
       "      <td>06/10/2022</td>\n",
       "      <td>20:24:29</td>\n",
       "      <td>5.22</td>\n",
       "      <td>5.12</td>\n",
       "      <td>5.83</td>\n",
       "      <td>0.036</td>\n",
       "      <td>104237.82</td>\n",
       "      <td>7060.75</td>\n",
       "    </tr>\n",
       "  </tbody>\n",
       "</table>\n",
       "</div>"
      ],
      "text/plain": [
       "         Data      Hora  Dólar  Euro  Libra    Yen    Bitcoin  Ethereum\n",
       "0  06/10/2022  20:03:13   5.22  5.11   5.83  0.036  103935.85   7054.93\n",
       "1  06/10/2022  20:20:29   5.22  5.11   5.83  0.036  104237.82   7060.75\n",
       "2  06/10/2022  20:21:52   5.22  5.11   5.83  0.036  104243.80   7061.15\n",
       "3  06/10/2022  20:23:06   5.22  5.11   5.83  0.036  104243.80   7061.15\n",
       "4  06/10/2022  20:24:29   5.22  5.12   5.83  0.036  104237.82   7060.75"
      ]
     },
     "execution_count": 22,
     "metadata": {},
     "output_type": "execute_result"
    }
   ],
   "source": [
    "df_currency = pd.read_csv('cotacoes.csv', sep=';')\n",
    "df_currency.head(5)"
   ]
  },
  {
   "cell_type": "markdown",
   "metadata": {},
   "source": [
    "##### A base de dados contém informações de data, hora e a cotação de algumas moedas"
   ]
  },
  {
   "cell_type": "markdown",
   "metadata": {},
   "source": [
    "#### Criando as funções que irão pesquisar na web os valores necessários"
   ]
  },
  {
   "cell_type": "code",
   "execution_count": null,
   "metadata": {},
   "outputs": [],
   "source": [
    "currency_example = ['Dólar', 'Euro', 'Libra', 'Yen']\n",
    "criptos = ['Bitcoin', 'Ethereum']\n",
    "\n",
    "for i in range(60):\n",
    "    date_time_now = datetime.now()\n",
    "    date_pattern = date_time_now.strftime(r\"%d/%m/%Y\") #Salva só a data\n",
    "    time_pattern = date_time_now.strftime(r\"%H:%M:%S\") #Salva só a hora\n",
    "\n",
    "    price = [date_pattern, time_pattern]\n",
    "\n",
    "    browser = webdriver.Edge()\n",
    "\n",
    "    for item in currency_example:\n",
    "        browser.get(\"https://www.google.com/\")\n",
    "        browser.find_element(By.XPATH,\n",
    "                            '/html/body/div[1]/div[3]/form/div[1]/div[1]/div[1]/div/div[2]/input').send_keys(f'cotação {item}')\n",
    "        browser.find_element(By.XPATH,\n",
    "                            '/html/body/div[1]/div[3]/form/div[1]/div[1]/div[1]/div/div[2]/input').send_keys(Keys.ENTER)\n",
    "        cotacao = browser.find_element(By.XPATH,\n",
    "                            '//*[@id=\"knowledge-currency__updatable-data-column\"]/div[3]/div/div[2]/input').get_attribute('value')\n",
    "        price.append(cotacao)\n",
    "\n",
    "    for item in criptos:\n",
    "        browser.get(\"https://www.google.com/\")\n",
    "        browser.find_element(By.XPATH,\n",
    "                            '/html/body/div[1]/div[3]/form/div[1]/div[1]/div[1]/div/div[2]/input').send_keys(f'cotação {item}')\n",
    "        browser.find_element(By.XPATH,\n",
    "                            '/html/body/div[1]/div[3]/form/div[1]/div[1]/div[1]/div/div[2]/input').send_keys(Keys.ENTER)\n",
    "        cotacao = browser.find_element(By.XPATH,\n",
    "                            '//*[@id=\"crypto-updatable_2\"]/div[3]/div[5]/div[2]/input').get_attribute('value')\n",
    "        price.append(cotacao)\n",
    "\n",
    "    browser.quit()\n",
    "\n",
    "    df_currency = pd.read_csv('cotacoes.csv', sep=';')\n",
    "    df_currency.loc[len(df_currency.index)] = price\n",
    "    df_currency.to_csv('cotacoes.csv', sep=';', index= False)\n",
    "\n",
    "    time.sleep(60)"
   ]
  }
 ],
 "metadata": {
  "kernelspec": {
   "display_name": "Python 3.10.6 64-bit",
   "language": "python",
   "name": "python3"
  },
  "language_info": {
   "codemirror_mode": {
    "name": "ipython",
    "version": 3
   },
   "file_extension": ".py",
   "mimetype": "text/x-python",
   "name": "python",
   "nbconvert_exporter": "python",
   "pygments_lexer": "ipython3",
   "version": "3.10.6"
  },
  "orig_nbformat": 4,
  "vscode": {
   "interpreter": {
    "hash": "369f2c481f4da34e4445cda3fffd2e751bd1c4d706f27375911949ba6bb62e1c"
   }
  }
 },
 "nbformat": 4,
 "nbformat_minor": 2
}
